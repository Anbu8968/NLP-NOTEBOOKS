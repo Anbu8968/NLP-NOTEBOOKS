{
 "cells": [
  {
   "cell_type": "code",
   "execution_count": 1,
   "id": "70a4320d",
   "metadata": {},
   "outputs": [],
   "source": [
    "import pandas as pd\n",
    "import spacy"
   ]
  },
  {
   "cell_type": "code",
   "execution_count": 2,
   "id": "a5f3a721",
   "metadata": {},
   "outputs": [],
   "source": [
    "df=pd.read_excel(\"Dummy.xls\")"
   ]
  },
  {
   "cell_type": "code",
   "execution_count": 51,
   "id": "55e63b28",
   "metadata": {},
   "outputs": [
    {
     "data": {
      "text/html": [
       "<div>\n",
       "<style scoped>\n",
       "    .dataframe tbody tr th:only-of-type {\n",
       "        vertical-align: middle;\n",
       "    }\n",
       "\n",
       "    .dataframe tbody tr th {\n",
       "        vertical-align: top;\n",
       "    }\n",
       "\n",
       "    .dataframe thead th {\n",
       "        text-align: right;\n",
       "    }\n",
       "</style>\n",
       "<table border=\"1\" class=\"dataframe\">\n",
       "  <thead>\n",
       "    <tr style=\"text-align: right;\">\n",
       "      <th></th>\n",
       "      <th>sno</th>\n",
       "      <th>name</th>\n",
       "      <th>age</th>\n",
       "      <th>aadhar_card_no</th>\n",
       "      <th>pan_no</th>\n",
       "      <th>ssn</th>\n",
       "      <th>iban</th>\n",
       "      <th>isfc</th>\n",
       "      <th>passport_no</th>\n",
       "      <th>license_no</th>\n",
       "      <th>phone_no</th>\n",
       "      <th>Health report</th>\n",
       "    </tr>\n",
       "  </thead>\n",
       "  <tbody>\n",
       "    <tr>\n",
       "      <th>0</th>\n",
       "      <td>1</td>\n",
       "      <td>sai</td>\n",
       "      <td>21</td>\n",
       "      <td>834333167635</td>\n",
       "      <td>BNZAA2318J</td>\n",
       "      <td>333-22-4444</td>\n",
       "      <td>DE89 3704 0044 0532 0130 00</td>\n",
       "      <td>SBIN0125620</td>\n",
       "      <td>A21 90457</td>\n",
       "      <td>AP-01-2005-1234567</td>\n",
       "      <td>8919467729</td>\n",
       "      <td>negative</td>\n",
       "    </tr>\n",
       "    <tr>\n",
       "      <th>1</th>\n",
       "      <td>2</td>\n",
       "      <td>klaus</td>\n",
       "      <td>28</td>\n",
       "      <td>834366222123</td>\n",
       "      <td>aaaswe345e</td>\n",
       "      <td>123-45-6789</td>\n",
       "      <td>AT61 1904 3002 3457 3201</td>\n",
       "      <td>SBIN0125</td>\n",
       "      <td>A0296457</td>\n",
       "      <td>D1-23-2407-0660905</td>\n",
       "      <td>8265-123-234</td>\n",
       "      <td>positive</td>\n",
       "    </tr>\n",
       "    <tr>\n",
       "      <th>2</th>\n",
       "      <td>3</td>\n",
       "      <td>phobe</td>\n",
       "      <td>22</td>\n",
       "      <td>876366224567</td>\n",
       "      <td>aw2345waaa</td>\n",
       "      <td>123456789</td>\n",
       "      <td>FR14 2004 1010 0505 0001 3</td>\n",
       "      <td>ZXCN798562x</td>\n",
       "      <td>12096457</td>\n",
       "      <td>AP-34-2123-4512345</td>\n",
       "      <td>986-456-6723</td>\n",
       "      <td>negative</td>\n",
       "    </tr>\n",
       "    <tr>\n",
       "      <th>3</th>\n",
       "      <td>4</td>\n",
       "      <td>talor</td>\n",
       "      <td>21</td>\n",
       "      <td>834329834567</td>\n",
       "      <td>aasw345hhw</td>\n",
       "      <td>1234-56-7890</td>\n",
       "      <td>GB82-WEST-1234-5698-7654-32</td>\n",
       "      <td>JNUN012562B</td>\n",
       "      <td>A209645704</td>\n",
       "      <td>RR-34-1997-5786132</td>\n",
       "      <td>678-892-1234</td>\n",
       "      <td>negative</td>\n",
       "    </tr>\n",
       "    <tr>\n",
       "      <th>4</th>\n",
       "      <td>5</td>\n",
       "      <td>Anbu</td>\n",
       "      <td>20</td>\n",
       "      <td>939061637089</td>\n",
       "      <td>BNZAA23184</td>\n",
       "      <td>123-00-7890</td>\n",
       "      <td>NL20INGB 0001234567</td>\n",
       "      <td>PUNB0150100</td>\n",
       "      <td>M1602135I</td>\n",
       "      <td>D6-10-1070-6605313</td>\n",
       "      <td>734-786-7890</td>\n",
       "      <td>negative</td>\n",
       "    </tr>\n",
       "  </tbody>\n",
       "</table>\n",
       "</div>"
      ],
      "text/plain": [
       "   sno   name  age  aadhar_card_no      pan_no           ssn  \\\n",
       "0    1    sai   21    834333167635  BNZAA2318J  333-22-4444    \n",
       "1    2  klaus   28    834366222123  aaaswe345e   123-45-6789   \n",
       "2    3  phobe   22    876366224567  aw2345waaa     123456789   \n",
       "3    4  talor   21    834329834567  aasw345hhw  1234-56-7890   \n",
       "4    5   Anbu   20    939061637089  BNZAA23184   123-00-7890   \n",
       "\n",
       "                          iban         isfc passport_no          license_no  \\\n",
       "0  DE89 3704 0044 0532 0130 00  SBIN0125620   A21 90457  AP-01-2005-1234567   \n",
       "1     AT61 1904 3002 3457 3201     SBIN0125    A0296457  D1-23-2407-0660905   \n",
       "2   FR14 2004 1010 0505 0001 3  ZXCN798562x    12096457  AP-34-2123-4512345   \n",
       "3  GB82-WEST-1234-5698-7654-32  JNUN012562B  A209645704  RR-34-1997-5786132   \n",
       "4          NL20INGB 0001234567  PUNB0150100   M1602135I  D6-10-1070-6605313   \n",
       "\n",
       "       phone_no Health report  \n",
       "0    8919467729      negative  \n",
       "1  8265-123-234      positive  \n",
       "2  986-456-6723      negative  \n",
       "3  678-892-1234      negative  \n",
       "4  734-786-7890      negative  "
      ]
     },
     "execution_count": 51,
     "metadata": {},
     "output_type": "execute_result"
    }
   ],
   "source": [
    "df.head(10)"
   ]
  },
  {
   "cell_type": "code",
   "execution_count": 4,
   "id": "6131c79a",
   "metadata": {},
   "outputs": [],
   "source": [
    "nlp=spacy.load(\"en_core_web_sm\")"
   ]
  },
  {
   "cell_type": "code",
   "execution_count": 5,
   "id": "ce2e41e0",
   "metadata": {},
   "outputs": [],
   "source": [
    "doc=nlp(str(df))"
   ]
  },
  {
   "cell_type": "code",
   "execution_count": 14,
   "id": "9e603b7d",
   "metadata": {},
   "outputs": [
    {
     "name": "stdout",
     "output_type": "stream",
     "text": [
      "   \n",
      "sno\n",
      "  \n",
      "name\n",
      " \n",
      "age\n",
      " \n",
      "aadhar_card_no\n",
      "     \n",
      "pan_no\n",
      "          \n",
      "ssn\n",
      " \n",
      "\\\n",
      "\n",
      "\n",
      "0\n",
      "   \n",
      "1\n",
      "   \n",
      "sai\n",
      "  \n",
      "21\n",
      "   \n",
      "834333167635\n",
      " \n",
      "BNZAA2318J\n",
      " \n",
      "333\n",
      "-\n",
      "22\n",
      "-\n",
      "4444\n",
      "    \n",
      "\n",
      "1\n",
      "   \n",
      "2\n",
      " \n",
      "klaus\n",
      "  \n",
      "28\n",
      "   \n",
      "834366222123\n",
      " \n",
      "aaaswe345e\n",
      "  \n",
      "123\n",
      "-\n",
      "45\n",
      "-\n",
      "6789\n",
      "  \n",
      "\n",
      "2\n",
      "   \n",
      "3\n",
      " \n",
      "phobe\n",
      "  \n",
      "22\n",
      "   \n",
      "876366224567\n",
      " \n",
      "aw2345waaa\n",
      "    \n",
      "123456789\n",
      "  \n",
      "\n",
      "3\n",
      "   \n",
      "4\n",
      " \n",
      "talor\n",
      "  \n",
      "21\n",
      "   \n",
      "834329834567\n",
      " \n",
      "aasw345hhw\n",
      " \n",
      "1234\n",
      "-\n",
      "56\n",
      "-\n",
      "7890\n",
      "  \n",
      "\n",
      "4\n",
      "   \n",
      "5\n",
      "  \n",
      "Anbu\n",
      "  \n",
      "20\n",
      "   \n",
      "939061637089\n",
      " \n",
      "BNZAA23184\n",
      "  \n",
      "123\n",
      "-\n",
      "00\n",
      "-\n",
      "7890\n",
      "  \n",
      "\n",
      "                          \n",
      "iban\n",
      "        \n",
      "isfc\n",
      "passport_no\n",
      "         \n",
      "license_no\n",
      " \n",
      "\\\n",
      "\n",
      "\n",
      "0\n",
      " \n",
      "DE89\n",
      "3704\n",
      "0044\n",
      "0532\n",
      "0130\n",
      "00\n",
      " \n",
      "SBIN0125620\n",
      "  \n",
      "A21\n",
      "90457\n",
      " \n",
      "AP-01\n",
      "-\n",
      "2005\n",
      "-\n",
      "1234567\n",
      "  \n",
      "\n",
      "1\n",
      "    \n",
      "AT61\n",
      "1904\n",
      "3002\n",
      "3457\n",
      "3201\n",
      "    \n",
      "SBIN0125\n",
      "   \n",
      "A0296457\n",
      " \n",
      "D1\n",
      "-\n",
      "23\n",
      "-\n",
      "2407\n",
      "-\n",
      "0660905\n",
      "  \n",
      "\n",
      "2\n",
      "  \n",
      "FR14\n",
      "2004\n",
      "1010\n",
      "0505\n",
      "0001\n",
      "3\n",
      " \n",
      "ZXCN798562x\n",
      "   \n",
      "12096457\n",
      " \n",
      "AP-34\n",
      "-\n",
      "2123\n",
      "-\n",
      "4512345\n",
      "  \n",
      "\n",
      "3\n",
      " \n",
      "GB82\n",
      "-\n",
      "WEST-1234\n",
      "-\n",
      "5698\n",
      "-\n",
      "7654\n",
      "-\n",
      "32\n",
      " \n",
      "JNUN012562B\n",
      " \n",
      "A209645704\n",
      " \n",
      "RR-34\n",
      "-\n",
      "1997\n",
      "-\n",
      "5786132\n",
      "  \n",
      "\n",
      "4\n",
      "         \n",
      "NL20INGB\n",
      "0001234567\n",
      " \n",
      "PUNB0150100\n",
      "  \n",
      "M1602135I\n",
      " \n",
      "D6\n",
      "-\n",
      "10\n",
      "-\n",
      "1070\n",
      "-\n",
      "6605313\n",
      "  \n",
      "\n",
      "       \n",
      "phone_no\n",
      "Health\n",
      "report\n",
      " \n",
      "\n",
      "0\n",
      "   \n",
      "8919467729\n",
      "     \n",
      "negative\n",
      " \n",
      "\n",
      "1\n",
      " \n",
      "8265\n",
      "-\n",
      "123\n",
      "-\n",
      "234\n",
      "     \n",
      "positive\n",
      " \n",
      "\n",
      "2\n",
      " \n",
      "986\n",
      "-\n",
      "456\n",
      "-\n",
      "6723\n",
      "     \n",
      "negative\n",
      " \n",
      "\n",
      "3\n",
      " \n",
      "678\n",
      "-\n",
      "892\n",
      "-\n",
      "1234\n",
      "     \n",
      "negative\n",
      " \n",
      "\n",
      "4\n",
      " \n",
      "734\n",
      "-\n",
      "786\n",
      "-\n",
      "7890\n",
      "     \n",
      "negative\n",
      " \n"
     ]
    }
   ],
   "source": [
    "tokens=[]\n",
    "for token in doc:\n",
    "    print(token.text)\n",
    "    tokens.append(token.text)"
   ]
  },
  {
   "cell_type": "code",
   "execution_count": 22,
   "id": "94c568cc",
   "metadata": {},
   "outputs": [],
   "source": [
    "df = pd.DataFrame(pd.read_excel(\"Dummy.xls\", engine='xlrd'))\n",
    "# print(df.head())\n",
    "content = str(df)\n",
    "print(content, file=open('my_file.txt', 'w'))\n"
   ]
  },
  {
   "cell_type": "code",
   "execution_count": 24,
   "id": "67ff209e",
   "metadata": {},
   "outputs": [
    {
     "data": {
      "text/plain": [
       "['   sno   name  age  aadhar_card_no      pan_no           ssn  \\\\\\n',\n",
       " '0    1    sai   21    834333167635  BNZAA2318J  333-22-4444\\xa0   \\n',\n",
       " '1    2  klaus   28    834366222123  aaaswe345e   123-45-6789   \\n',\n",
       " '2    3  phobe   22    876366224567  aw2345waaa     123456789   \\n',\n",
       " '3    4  talor   21    834329834567  aasw345hhw  1234-56-7890   \\n',\n",
       " '4    5   Anbu   20    939061637089  BNZAA23184   123-00-7890   \\n',\n",
       " '\\n',\n",
       " '                          iban         isfc passport_no          license_no  \\\\\\n',\n",
       " '0  DE89 3704 0044 0532 0130 00  SBIN0125620   A21 90457  AP-01-2005-1234567   \\n',\n",
       " '1     AT61 1904 3002 3457 3201     SBIN0125    A0296457  D1-23-2407-0660905   \\n',\n",
       " '2   FR14 2004 1010 0505 0001 3  ZXCN798562x    12096457  AP-34-2123-4512345   \\n',\n",
       " '3  GB82-WEST-1234-5698-7654-32  JNUN012562B  A209645704  RR-34-1997-5786132   \\n',\n",
       " '4          NL20INGB 0001234567  PUNB0150100   M1602135I  D6-10-1070-6605313   \\n',\n",
       " '\\n',\n",
       " '       phone_no Health report  \\n',\n",
       " '0    8919467729      negative  \\n',\n",
       " '1  8265-123-234      positive  \\n',\n",
       " '2  986-456-6723      negative  \\n',\n",
       " '3  678-892-1234      negative  \\n',\n",
       " '4  734-786-7890      negative  \\n']"
      ]
     },
     "execution_count": 24,
     "metadata": {},
     "output_type": "execute_result"
    }
   ],
   "source": [
    "with open(\"my_file.txt\") as f:  \n",
    "    file=f.readlines()\n",
    "file"
   ]
  },
  {
   "cell_type": "code",
   "execution_count": 25,
   "id": "d6f39e3c",
   "metadata": {},
   "outputs": [],
   "source": [
    "text=\" \".join(file)"
   ]
  },
  {
   "cell_type": "code",
   "execution_count": 26,
   "id": "739ec23e",
   "metadata": {},
   "outputs": [
    {
     "data": {
      "text/plain": [
       "'   sno   name  age  aadhar_card_no      pan_no           ssn  \\\\\\n 0    1    sai   21    834333167635  BNZAA2318J  333-22-4444\\xa0   \\n 1    2  klaus   28    834366222123  aaaswe345e   123-45-6789   \\n 2    3  phobe   22    876366224567  aw2345waaa     123456789   \\n 3    4  talor   21    834329834567  aasw345hhw  1234-56-7890   \\n 4    5   Anbu   20    939061637089  BNZAA23184   123-00-7890   \\n \\n                           iban         isfc passport_no          license_no  \\\\\\n 0  DE89 3704 0044 0532 0130 00  SBIN0125620   A21 90457  AP-01-2005-1234567   \\n 1     AT61 1904 3002 3457 3201     SBIN0125    A0296457  D1-23-2407-0660905   \\n 2   FR14 2004 1010 0505 0001 3  ZXCN798562x    12096457  AP-34-2123-4512345   \\n 3  GB82-WEST-1234-5698-7654-32  JNUN012562B  A209645704  RR-34-1997-5786132   \\n 4          NL20INGB 0001234567  PUNB0150100   M1602135I  D6-10-1070-6605313   \\n \\n        phone_no Health report  \\n 0    8919467729      negative  \\n 1  8265-123-234      positive  \\n 2  986-456-6723      negative  \\n 3  678-892-1234      negative  \\n 4  734-786-7890      negative  \\n'"
      ]
     },
     "execution_count": 26,
     "metadata": {},
     "output_type": "execute_result"
    }
   ],
   "source": [
    "text"
   ]
  },
  {
   "cell_type": "code",
   "execution_count": 34,
   "id": "aa2d9ea0",
   "metadata": {},
   "outputs": [],
   "source": [
    "doc=nlp(text)\n",
    "doc=str(doc)"
   ]
  },
  {
   "cell_type": "code",
   "execution_count": 47,
   "id": "754bea94",
   "metadata": {},
   "outputs": [],
   "source": [
    "pancard='([A-Z]{5}[0-9]{4}[A-Z]{1})'\n",
    "ssn='\\d{3}-\\d{2}-\\d{4}'\n",
    "iban='[A-Z]{2}\\d{2} ?\\d{4} ?\\d{4} ?\\d{4} ?\\d{4} ?[\\d]{0,2}'\n",
    "ifsc='[A-Z]{4}0[A-Z0-9]{6}'\n",
    "license_no='[a-zA-Z0-9]{2}[-]\\d{2}[-]\\d{4}[-]\\d{7}'\n",
    "aadhar_card='\\d{12}'\n",
    "phone_no='\\d{10}| \\d{3}-\\d{3}-\\d{4}'"
   ]
  },
  {
   "cell_type": "code",
   "execution_count": 48,
   "id": "982edc5b",
   "metadata": {},
   "outputs": [],
   "source": [
    "import re\n",
    "pancard_match=re.findall(pancard,doc)\n",
    "aadhar_match=re.findall(aadhar_card,doc)\n",
    "license_match=re.findall(license_no,doc)\n",
    "ifsc_match=re.findall(ifsc,doc)\n",
    "phone_match=re.findall(phone_no,doc)"
   ]
  },
  {
   "cell_type": "code",
   "execution_count": 50,
   "id": "5d607a10",
   "metadata": {},
   "outputs": [
    {
     "name": "stdout",
     "output_type": "stream",
     "text": [
      "['8343331676', '8343662221', '8763662245', '8343298345', '9390616370', '0001234567', '8919467729', ' 986-456-6723', ' 678-892-1234', ' 734-786-7890']\n"
     ]
    }
   ],
   "source": [
    "print(phone_match)"
   ]
  },
  {
   "cell_type": "markdown",
   "id": "a5f1d943",
   "metadata": {},
   "source": [
    "# Amazon DataSets"
   ]
  },
  {
   "cell_type": "code",
   "execution_count": 52,
   "id": "e6d1776a",
   "metadata": {},
   "outputs": [],
   "source": [
    "import pandas as pd\n",
    "import spacy"
   ]
  },
  {
   "cell_type": "code",
   "execution_count": 53,
   "id": "7e9f09a7",
   "metadata": {},
   "outputs": [
    {
     "data": {
      "text/html": [
       "<div>\n",
       "<style scoped>\n",
       "    .dataframe tbody tr th:only-of-type {\n",
       "        vertical-align: middle;\n",
       "    }\n",
       "\n",
       "    .dataframe tbody tr th {\n",
       "        vertical-align: top;\n",
       "    }\n",
       "\n",
       "    .dataframe thead th {\n",
       "        text-align: right;\n",
       "    }\n",
       "</style>\n",
       "<table border=\"1\" class=\"dataframe\">\n",
       "  <thead>\n",
       "    <tr style=\"text-align: right;\">\n",
       "      <th></th>\n",
       "      <th>ASIN</th>\n",
       "      <th>category</th>\n",
       "      <th>links</th>\n",
       "      <th>title</th>\n",
       "      <th>price</th>\n",
       "      <th>image url</th>\n",
       "      <th>rating</th>\n",
       "      <th>No of reviews</th>\n",
       "    </tr>\n",
       "  </thead>\n",
       "  <tbody>\n",
       "    <tr>\n",
       "      <th>0</th>\n",
       "      <td>B07HF3X6Y4</td>\n",
       "      <td>Any Department/Home &amp; Kitchen/ Irons &amp; Steamers</td>\n",
       "      <td>https://www.amazon.com/Hilife-Steamer-Handheld...</td>\n",
       "      <td>\\n            Hilife Steamer for Clothes Steam...</td>\n",
       "      <td>$24.99</td>\n",
       "      <td>https://images-na.ssl-images-amazon.com/images...</td>\n",
       "      <td>4.4 out of 5 stars</td>\n",
       "      <td>15,233</td>\n",
       "    </tr>\n",
       "    <tr>\n",
       "      <th>1</th>\n",
       "      <td>B07JVFZJT7</td>\n",
       "      <td>Any Department/Home &amp; Kitchen/ Irons &amp; Steamers</td>\n",
       "      <td>https://www.amazon.com/Professional-Resistant-...</td>\n",
       "      <td>\\n            Professional Grade 1700W Steam I...</td>\n",
       "      <td>$39.97</td>\n",
       "      <td>https://images-na.ssl-images-amazon.com/images...</td>\n",
       "      <td>4.5 out of 5 stars</td>\n",
       "      <td>9,726</td>\n",
       "    </tr>\n",
       "    <tr>\n",
       "      <th>2</th>\n",
       "      <td>B07W95HD5M</td>\n",
       "      <td>Any Department/Home &amp; Kitchen/ Irons &amp; Steamers</td>\n",
       "      <td>https://www.amazon.com/HOMZ-Ironing-Board-Hold...</td>\n",
       "      <td>\\n            Homz T Leg Ironing Board Holder,...</td>\n",
       "      <td>$1.99 $64.78</td>\n",
       "      <td>https://images-na.ssl-images-amazon.com/images...</td>\n",
       "      <td>4.4 out of 5 stars</td>\n",
       "      <td>2,796</td>\n",
       "    </tr>\n",
       "    <tr>\n",
       "      <th>3</th>\n",
       "      <td>B07JGRV3TQ</td>\n",
       "      <td>Any Department/Home &amp; Kitchen/ Irons &amp; Steamers</td>\n",
       "      <td>https://www.amazon.com/OGHom-Steamer-Clothes-H...</td>\n",
       "      <td>\\n            OGHom Steamer for Clothes Steame...</td>\n",
       "      <td>$16.99 $18.99</td>\n",
       "      <td>https://images-na.ssl-images-amazon.com/images...</td>\n",
       "      <td>4.6 out of 5 stars</td>\n",
       "      <td>6,573</td>\n",
       "    </tr>\n",
       "    <tr>\n",
       "      <th>4</th>\n",
       "      <td>B01N1QE5ME</td>\n",
       "      <td>Any Department/Home &amp; Kitchen/ Irons &amp; Steamers</td>\n",
       "      <td>https://www.amazon.com/BEAUTURAL-1200-Watt-Han...</td>\n",
       "      <td>\\n            BEAUTURAL Steamer for Clothes wi...</td>\n",
       "      <td>$32.97 $39.97</td>\n",
       "      <td>https://images-na.ssl-images-amazon.com/images...</td>\n",
       "      <td>4.4 out of 5 stars</td>\n",
       "      <td>8,223</td>\n",
       "    </tr>\n",
       "  </tbody>\n",
       "</table>\n",
       "</div>"
      ],
      "text/plain": [
       "         ASIN                                         category  \\\n",
       "0  B07HF3X6Y4  Any Department/Home & Kitchen/ Irons & Steamers   \n",
       "1  B07JVFZJT7  Any Department/Home & Kitchen/ Irons & Steamers   \n",
       "2  B07W95HD5M  Any Department/Home & Kitchen/ Irons & Steamers   \n",
       "3  B07JGRV3TQ  Any Department/Home & Kitchen/ Irons & Steamers   \n",
       "4  B01N1QE5ME  Any Department/Home & Kitchen/ Irons & Steamers   \n",
       "\n",
       "                                               links  \\\n",
       "0  https://www.amazon.com/Hilife-Steamer-Handheld...   \n",
       "1  https://www.amazon.com/Professional-Resistant-...   \n",
       "2  https://www.amazon.com/HOMZ-Ironing-Board-Hold...   \n",
       "3  https://www.amazon.com/OGHom-Steamer-Clothes-H...   \n",
       "4  https://www.amazon.com/BEAUTURAL-1200-Watt-Han...   \n",
       "\n",
       "                                               title          price  \\\n",
       "0  \\n            Hilife Steamer for Clothes Steam...         $24.99   \n",
       "1  \\n            Professional Grade 1700W Steam I...         $39.97   \n",
       "2  \\n            Homz T Leg Ironing Board Holder,...   $1.99 $64.78   \n",
       "3  \\n            OGHom Steamer for Clothes Steame...  $16.99 $18.99   \n",
       "4  \\n            BEAUTURAL Steamer for Clothes wi...  $32.97 $39.97   \n",
       "\n",
       "                                           image url              rating  \\\n",
       "0  https://images-na.ssl-images-amazon.com/images...  4.4 out of 5 stars   \n",
       "1  https://images-na.ssl-images-amazon.com/images...  4.5 out of 5 stars   \n",
       "2  https://images-na.ssl-images-amazon.com/images...  4.4 out of 5 stars   \n",
       "3  https://images-na.ssl-images-amazon.com/images...  4.6 out of 5 stars   \n",
       "4  https://images-na.ssl-images-amazon.com/images...  4.4 out of 5 stars   \n",
       "\n",
       "  No of reviews  \n",
       "0        15,233  \n",
       "1         9,726  \n",
       "2         2,796  \n",
       "3         6,573  \n",
       "4         8,223  "
      ]
     },
     "execution_count": 53,
     "metadata": {},
     "output_type": "execute_result"
    }
   ],
   "source": [
    "df=pd.read_csv(\"amazon_data.csv\")\n",
    "df.head()"
   ]
  },
  {
   "cell_type": "code",
   "execution_count": 54,
   "id": "8d80d43d",
   "metadata": {},
   "outputs": [
    {
     "data": {
      "text/plain": [
       "Index(['ASIN', 'category', 'links', 'title', 'price', 'image url', 'rating',\n",
       "       'No of reviews'],\n",
       "      dtype='object')"
      ]
     },
     "execution_count": 54,
     "metadata": {},
     "output_type": "execute_result"
    }
   ],
   "source": [
    "df.columns"
   ]
  },
  {
   "cell_type": "code",
   "execution_count": 55,
   "id": "333b259d",
   "metadata": {},
   "outputs": [],
   "source": [
    "nlp=spacy.load(\"en_core_web_sm\")"
   ]
  },
  {
   "cell_type": "code",
   "execution_count": 60,
   "id": "7459566f",
   "metadata": {},
   "outputs": [],
   "source": [
    "doc=nlp(str(df))\n",
    "content=str(df)"
   ]
  },
  {
   "cell_type": "code",
   "execution_count": 61,
   "id": "07e023d6",
   "metadata": {},
   "outputs": [],
   "source": [
    "print(content, file=open('my_file.txt', 'w'))"
   ]
  },
  {
   "cell_type": "code",
   "execution_count": 62,
   "id": "a88783a0",
   "metadata": {},
   "outputs": [
    {
     "data": {
      "text/plain": [
       "['               ASIN                                           category  \\\\\\n',\n",
       " '0        B07HF3X6Y4    Any Department/Home & Kitchen/ Irons & Steamers   \\n',\n",
       " '1        B07JVFZJT7    Any Department/Home & Kitchen/ Irons & Steamers   \\n',\n",
       " '2        B07W95HD5M    Any Department/Home & Kitchen/ Irons & Steamers   \\n',\n",
       " '3        B07JGRV3TQ    Any Department/Home & Kitchen/ Irons & Steamers   \\n',\n",
       " '4        B01N1QE5ME    Any Department/Home & Kitchen/ Irons & Steamers   \\n',\n",
       " '...             ...                                                ...   \\n',\n",
       " \"2252672  B0859ZNH4L  Any Department/Home & Kitchen/Kids' Home Store...   \\n\",\n",
       " \"2252673  B07CJ5PDY3  Any Department/Home & Kitchen/Kids' Home Store...   \\n\",\n",
       " \"2252674  B003DNS9XG  Any Department/Home & Kitchen/Kids' Home Store...   \\n\",\n",
       " \"2252675  B0793SKDRW  Any Department/Home & Kitchen/Kids' Home Store...   \\n\",\n",
       " \"2252676  B00ZV8RAEU  Any Department/Home & Kitchen/Kids' Home Store...   \\n\",\n",
       " '\\n',\n",
       " '                                                     links  \\\\\\n',\n",
       " '0        https://www.amazon.com/Hilife-Steamer-Handheld...   \\n',\n",
       " '1        https://www.amazon.com/Professional-Resistant-...   \\n',\n",
       " '2        https://www.amazon.com/HOMZ-Ironing-Board-Hold...   \\n',\n",
       " '3        https://www.amazon.com/OGHom-Steamer-Clothes-H...   \\n',\n",
       " '4        https://www.amazon.com/BEAUTURAL-1200-Watt-Han...   \\n',\n",
       " '...                                                    ...   \\n',\n",
       " '2252672  https://www.amazon.com/Playtime-Animals-Bathro...   \\n',\n",
       " '2252673  https://www.amazon.com/Gelrova-Mildew-Resistan...   \\n',\n",
       " '2252674  https://www.amazon.com/Mommys-Helper-Froggie-C...   \\n',\n",
       " '2252675  https://www.amazon.com/Yimobra-Original-Bacter...   \\n',\n",
       " '2252676  https://www.amazon.com/Dreambaby-Anti-slip-Sho...   \\n',\n",
       " '\\n',\n",
       " '                                                     title          price  \\\\\\n',\n",
       " '0        \\\\n            Hilife Steamer for Clothes Steam...         $24.99   \\n',\n",
       " '1        \\\\n            Professional Grade 1700W Steam I...         $39.97   \\n',\n",
       " '2        \\\\n            Homz T Leg Ironing Board Holder,...   $1.99 $64.78   \\n',\n",
       " '3        \\\\n            OGHom Steamer for Clothes Steame...  $16.99 $18.99   \\n',\n",
       " '4        \\\\n            BEAUTURAL Steamer for Clothes wi...  $32.97 $39.97   \\n',\n",
       " '...                                                    ...            ...   \\n',\n",
       " '2252672  \\\\n            Bath Toy Organizer, Extra Durabl...          $1.99   \\n',\n",
       " '2252673  \\\\n            Babykin Baby Bath Mat Anti Slip ...          $7.76   \\n',\n",
       " '2252674  \\\\n            HYST Cartoon Panda/Pineapple Car...          $6.99   \\n',\n",
       " '2252675  \\\\n            Non Slip Decal Sticker Strips Ba...         $12.01   \\n',\n",
       " '2252676  \\\\n            Littlefun Baby Non-Slip Bath Mat...         $34.99   \\n',\n",
       " '\\n',\n",
       " '                                                 image url  \\\\\\n',\n",
       " '0        https://images-na.ssl-images-amazon.com/images...   \\n',\n",
       " '1        https://images-na.ssl-images-amazon.com/images...   \\n',\n",
       " '2        https://images-na.ssl-images-amazon.com/images...   \\n',\n",
       " '3        https://images-na.ssl-images-amazon.com/images...   \\n',\n",
       " '4        https://images-na.ssl-images-amazon.com/images...   \\n',\n",
       " '...                                                    ...   \\n',\n",
       " '2252672  https://images-na.ssl-images-amazon.com/images...   \\n',\n",
       " '2252673  https://images-na.ssl-images-amazon.com/images...   \\n',\n",
       " '2252674  https://images-na.ssl-images-amazon.com/images...   \\n',\n",
       " '2252675  https://images-na.ssl-images-amazon.com/images...   \\n',\n",
       " '2252676  https://images-na.ssl-images-amazon.com/images...   \\n',\n",
       " '\\n',\n",
       " '                     rating No of reviews  \\n',\n",
       " '0        4.4 out of 5 stars        15,233  \\n',\n",
       " '1        4.5 out of 5 stars         9,726  \\n',\n",
       " '2        4.4 out of 5 stars         2,796  \\n',\n",
       " '3        4.6 out of 5 stars         6,573  \\n',\n",
       " '4        4.4 out of 5 stars         8,223  \\n',\n",
       " '...                     ...           ...  \\n',\n",
       " '2252672  3.6 out of 5 stars            26  \\n',\n",
       " '2252673  3.6 out of 5 stars           162  \\n',\n",
       " '2252674  3.9 out of 5 stars            13  \\n',\n",
       " '2252675  3.1 out of 5 stars            27  \\n',\n",
       " '2252676  3.7 out of 5 stars            29  \\n',\n",
       " '\\n',\n",
       " '[2252677 rows x 8 columns]\\n']"
      ]
     },
     "execution_count": 62,
     "metadata": {},
     "output_type": "execute_result"
    }
   ],
   "source": [
    "with open(\"my_file.txt\") as f:  \n",
    "    file=f.readlines()\n",
    "file"
   ]
  },
  {
   "cell_type": "code",
   "execution_count": 130,
   "id": "1546987f",
   "metadata": {},
   "outputs": [],
   "source": [
    "asin_no=[]\n",
    "links_url=[]\n",
    "money=[]\n",
    "images_url=[]\n",
    "ratings=[]"
   ]
  },
  {
   "cell_type": "code",
   "execution_count": 131,
   "id": "a9da1fcf",
   "metadata": {},
   "outputs": [],
   "source": [
    "doc=nlp(str(file))"
   ]
  },
  {
   "cell_type": "code",
   "execution_count": 132,
   "id": "d56f22d4",
   "metadata": {},
   "outputs": [],
   "source": [
    "for i in doc:\n",
    "    if i.like_url==True and \"images\" not in str(i):\n",
    "        links_url.append(i)\n",
    "    else:\n",
    "        if i.like_url==True and \"images\" in str(i):\n",
    "            images_url.append(i)"
   ]
  },
  {
   "cell_type": "code",
   "execution_count": 133,
   "id": "7a7f7d18",
   "metadata": {},
   "outputs": [
    {
     "data": {
      "text/plain": [
       "[https://www.amazon.com/Hilife-Steamer-Handheld,\n",
       " https://www.amazon.com/Professional-Resistant-,\n",
       " https://www.amazon.com/HOMZ-Ironing-Board-Hold,\n",
       " https://www.amazon.com/OGHom-Steamer-Clothes-H,\n",
       " https://www.amazon.com/BEAUTURAL-1200-Watt-Han,\n",
       " https://www.amazon.com/Playtime-Animals-Bathro,\n",
       " https://www.amazon.com/Gelrova-Mildew-Resistan,\n",
       " https://www.amazon.com/Mommys-Helper-Froggie-C,\n",
       " https://www.amazon.com/Yimobra-Original-Bacter,\n",
       " https://www.amazon.com/Dreambaby-Anti-slip-Sho]"
      ]
     },
     "execution_count": 133,
     "metadata": {},
     "output_type": "execute_result"
    }
   ],
   "source": [
    "links_url"
   ]
  },
  {
   "cell_type": "code",
   "execution_count": 134,
   "id": "8bf64f3c",
   "metadata": {},
   "outputs": [
    {
     "data": {
      "text/plain": [
       "[https://images-na.ssl-images-amazon.com/images,\n",
       " https://images-na.ssl-images-amazon.com/images,\n",
       " https://images-na.ssl-images-amazon.com/images,\n",
       " https://images-na.ssl-images-amazon.com/images,\n",
       " https://images-na.ssl-images-amazon.com/images,\n",
       " https://images-na.ssl-images-amazon.com/images,\n",
       " https://images-na.ssl-images-amazon.com/images,\n",
       " https://images-na.ssl-images-amazon.com/images,\n",
       " https://images-na.ssl-images-amazon.com/images,\n",
       " https://images-na.ssl-images-amazon.com/images]"
      ]
     },
     "execution_count": 134,
     "metadata": {},
     "output_type": "execute_result"
    }
   ],
   "source": [
    "images_url"
   ]
  },
  {
   "cell_type": "code",
   "execution_count": 138,
   "id": "63c8b7e7",
   "metadata": {},
   "outputs": [],
   "source": [
    "import re"
   ]
  },
  {
   "cell_type": "code",
   "execution_count": 140,
   "id": "7cb7e219",
   "metadata": {},
   "outputs": [],
   "source": [
    "Asin_no='[A-Z0-9]{10}'\n",
    "asin_no=re.findall(Asin_no,str(doc))"
   ]
  },
  {
   "cell_type": "code",
   "execution_count": 141,
   "id": "ec48a223",
   "metadata": {},
   "outputs": [
    {
     "data": {
      "text/plain": [
       "['B07HF3X6Y4',\n",
       " 'B07JVFZJT7',\n",
       " 'B07W95HD5M',\n",
       " 'B07JGRV3TQ',\n",
       " 'B01N1QE5ME',\n",
       " 'B0859ZNH4L',\n",
       " 'B07CJ5PDY3',\n",
       " 'B003DNS9XG',\n",
       " 'B0793SKDRW',\n",
       " 'B00ZV8RAEU']"
      ]
     },
     "execution_count": 141,
     "metadata": {},
     "output_type": "execute_result"
    }
   ],
   "source": [
    "asin_no"
   ]
  },
  {
   "cell_type": "code",
   "execution_count": 143,
   "id": "3ec15335",
   "metadata": {},
   "outputs": [],
   "source": [
    "rating='\\d.\\d \\w{3} \\w{2} \\d \\w{5}'\n",
    "ratings=re.findall(rating,str(doc))"
   ]
  },
  {
   "cell_type": "code",
   "execution_count": 144,
   "id": "e52e697e",
   "metadata": {},
   "outputs": [
    {
     "data": {
      "text/plain": [
       "['4.4 out of 5 stars',\n",
       " '4.5 out of 5 stars',\n",
       " '4.4 out of 5 stars',\n",
       " '4.6 out of 5 stars',\n",
       " '4.4 out of 5 stars',\n",
       " '3.6 out of 5 stars',\n",
       " '3.6 out of 5 stars',\n",
       " '3.9 out of 5 stars',\n",
       " '3.1 out of 5 stars',\n",
       " '3.7 out of 5 stars']"
      ]
     },
     "execution_count": 144,
     "metadata": {},
     "output_type": "execute_result"
    }
   ],
   "source": [
    "ratings"
   ]
  },
  {
   "cell_type": "code",
   "execution_count": 145,
   "id": "5422fd8b",
   "metadata": {},
   "outputs": [],
   "source": [
    "price_identify='\\$\\d+.\\d+'\n",
    "money=re.findall(price_identify,str(doc))"
   ]
  },
  {
   "cell_type": "code",
   "execution_count": 146,
   "id": "c55732bf",
   "metadata": {},
   "outputs": [
    {
     "data": {
      "text/plain": [
       "['$24.99',\n",
       " '$39.97',\n",
       " '$1.99',\n",
       " '$64.78',\n",
       " '$16.99',\n",
       " '$18.99',\n",
       " '$32.97',\n",
       " '$39.97',\n",
       " '$1.99',\n",
       " '$7.76',\n",
       " '$6.99',\n",
       " '$12.01',\n",
       " '$34.99']"
      ]
     },
     "execution_count": 146,
     "metadata": {},
     "output_type": "execute_result"
    }
   ],
   "source": [
    "money"
   ]
  },
  {
   "cell_type": "code",
   "execution_count": 148,
   "id": "7d1cd49c",
   "metadata": {},
   "outputs": [
    {
     "name": "stdout",
     "output_type": "stream",
     "text": [
      "asin_no ['B07HF3X6Y4', 'B07JVFZJT7', 'B07W95HD5M', 'B07JGRV3TQ', 'B01N1QE5ME', 'B0859ZNH4L', 'B07CJ5PDY3', 'B003DNS9XG', 'B0793SKDRW', 'B00ZV8RAEU']\n",
      " \n",
      "links_url [https://www.amazon.com/Hilife-Steamer-Handheld, https://www.amazon.com/Professional-Resistant-, https://www.amazon.com/HOMZ-Ironing-Board-Hold, https://www.amazon.com/OGHom-Steamer-Clothes-H, https://www.amazon.com/BEAUTURAL-1200-Watt-Han, https://www.amazon.com/Playtime-Animals-Bathro, https://www.amazon.com/Gelrova-Mildew-Resistan, https://www.amazon.com/Mommys-Helper-Froggie-C, https://www.amazon.com/Yimobra-Original-Bacter, https://www.amazon.com/Dreambaby-Anti-slip-Sho]\n",
      " \n",
      "money ['$24.99', '$39.97', '$1.99', '$64.78', '$16.99', '$18.99', '$32.97', '$39.97', '$1.99', '$7.76', '$6.99', '$12.01', '$34.99']\n",
      " \n",
      "images_url [https://images-na.ssl-images-amazon.com/images, https://images-na.ssl-images-amazon.com/images, https://images-na.ssl-images-amazon.com/images, https://images-na.ssl-images-amazon.com/images, https://images-na.ssl-images-amazon.com/images, https://images-na.ssl-images-amazon.com/images, https://images-na.ssl-images-amazon.com/images, https://images-na.ssl-images-amazon.com/images, https://images-na.ssl-images-amazon.com/images, https://images-na.ssl-images-amazon.com/images]\n",
      " \n",
      "ratings ['4.4 out of 5 stars', '4.5 out of 5 stars', '4.4 out of 5 stars', '4.6 out of 5 stars', '4.4 out of 5 stars', '3.6 out of 5 stars', '3.6 out of 5 stars', '3.9 out of 5 stars', '3.1 out of 5 stars', '3.7 out of 5 stars']\n"
     ]
    }
   ],
   "source": [
    "print(\"asin_no\",asin_no)\n",
    "print(\" \")\n",
    "print(\"links_url\",links_url)\n",
    "print(\" \")\n",
    "print(\"money\",money)\n",
    "print(\" \")\n",
    "print(\"images_url\",images_url)\n",
    "print(\" \")\n",
    "print(\"ratings\",ratings)"
   ]
  },
  {
   "cell_type": "code",
   "execution_count": 156,
   "id": "ad6b8818",
   "metadata": {},
   "outputs": [
    {
     "name": "stdout",
     "output_type": "stream",
     "text": [
      "asin_no B07HF3X6Y4\n",
      "asin_no B07JVFZJT7\n",
      "asin_no B07W95HD5M\n",
      "asin_no B07JGRV3TQ\n",
      "asin_no B01N1QE5ME\n",
      "asin_no B0859ZNH4L\n",
      "asin_no B07CJ5PDY3\n",
      "asin_no B003DNS9XG\n",
      "asin_no B0793SKDRW\n",
      "asin_no B00ZV8RAEU\n"
     ]
    },
    {
     "data": {
      "text/plain": [
       "10"
      ]
     },
     "execution_count": 156,
     "metadata": {},
     "output_type": "execute_result"
    }
   ],
   "source": [
    "for i in asin_no:\n",
    "    print(\"asin_no\",i)\n",
    "len(asin_no)"
   ]
  },
  {
   "cell_type": "code",
   "execution_count": 157,
   "id": "3e5fe3b3",
   "metadata": {},
   "outputs": [
    {
     "name": "stdout",
     "output_type": "stream",
     "text": [
      "links_url https://www.amazon.com/Hilife-Steamer-Handheld\n",
      "links_url https://www.amazon.com/Professional-Resistant-\n",
      "links_url https://www.amazon.com/HOMZ-Ironing-Board-Hold\n",
      "links_url https://www.amazon.com/OGHom-Steamer-Clothes-H\n",
      "links_url https://www.amazon.com/BEAUTURAL-1200-Watt-Han\n",
      "links_url https://www.amazon.com/Playtime-Animals-Bathro\n",
      "links_url https://www.amazon.com/Gelrova-Mildew-Resistan\n",
      "links_url https://www.amazon.com/Mommys-Helper-Froggie-C\n",
      "links_url https://www.amazon.com/Yimobra-Original-Bacter\n",
      "links_url https://www.amazon.com/Dreambaby-Anti-slip-Sho\n"
     ]
    },
    {
     "data": {
      "text/plain": [
       "10"
      ]
     },
     "execution_count": 157,
     "metadata": {},
     "output_type": "execute_result"
    }
   ],
   "source": [
    "for i in links_url:\n",
    "    print(\"links_url\",i)\n",
    "len(links_url)"
   ]
  },
  {
   "cell_type": "code",
   "execution_count": 151,
   "id": "2f87442d",
   "metadata": {},
   "outputs": [
    {
     "name": "stdout",
     "output_type": "stream",
     "text": [
      "images_url https://images-na.ssl-images-amazon.com/images\n",
      "images_url https://images-na.ssl-images-amazon.com/images\n",
      "images_url https://images-na.ssl-images-amazon.com/images\n",
      "images_url https://images-na.ssl-images-amazon.com/images\n",
      "images_url https://images-na.ssl-images-amazon.com/images\n",
      "images_url https://images-na.ssl-images-amazon.com/images\n",
      "images_url https://images-na.ssl-images-amazon.com/images\n",
      "images_url https://images-na.ssl-images-amazon.com/images\n",
      "images_url https://images-na.ssl-images-amazon.com/images\n",
      "images_url https://images-na.ssl-images-amazon.com/images\n"
     ]
    }
   ],
   "source": [
    "for i in images_url:\n",
    "    print(\"images_url\",i)"
   ]
  },
  {
   "cell_type": "code",
   "execution_count": 152,
   "id": "62047687",
   "metadata": {},
   "outputs": [
    {
     "name": "stdout",
     "output_type": "stream",
     "text": [
      "money $24.99\n",
      "money $39.97\n",
      "money $1.99\n",
      "money $64.78\n",
      "money $16.99\n",
      "money $18.99\n",
      "money $32.97\n",
      "money $39.97\n",
      "money $1.99\n",
      "money $7.76\n",
      "money $6.99\n",
      "money $12.01\n",
      "money $34.99\n"
     ]
    }
   ],
   "source": [
    "for i in money:\n",
    "    print(\"money\",i)"
   ]
  },
  {
   "cell_type": "code",
   "execution_count": 153,
   "id": "83728adf",
   "metadata": {},
   "outputs": [
    {
     "name": "stdout",
     "output_type": "stream",
     "text": [
      "ratings 4.4 out of 5 stars\n",
      "ratings 4.5 out of 5 stars\n",
      "ratings 4.4 out of 5 stars\n",
      "ratings 4.6 out of 5 stars\n",
      "ratings 4.4 out of 5 stars\n",
      "ratings 3.6 out of 5 stars\n",
      "ratings 3.6 out of 5 stars\n",
      "ratings 3.9 out of 5 stars\n",
      "ratings 3.1 out of 5 stars\n",
      "ratings 3.7 out of 5 stars\n"
     ]
    }
   ],
   "source": [
    "for i in ratings:\n",
    "    print(\"ratings\",i)"
   ]
  },
  {
   "cell_type": "code",
   "execution_count": 158,
   "id": "b7045ee9",
   "metadata": {},
   "outputs": [],
   "source": [
    "data={\"ASIN NO\":asin_no[:10],\"MONEY\":money[:10],\"links\":links_url[:10],\"IMAGE URL\":images_url[:10],\"RATINGS\":ratings[:10]}"
   ]
  },
  {
   "cell_type": "code",
   "execution_count": 159,
   "id": "a3a50938",
   "metadata": {},
   "outputs": [],
   "source": [
    "dataFrame=pd.DataFrame(data)"
   ]
  },
  {
   "cell_type": "code",
   "execution_count": 163,
   "id": "e31f8d5f",
   "metadata": {},
   "outputs": [
    {
     "data": {
      "text/plain": [
       "'[\\'               ASIN                                           category  \\\\\\\\\\\\n\\', \\'0        B07HF3X6Y4    Any Department/Home & Kitchen/ Irons & Steamers   \\\\n\\', \\'1        B07JVFZJT7    Any Department/Home & Kitchen/ Irons & Steamers   \\\\n\\', \\'2        B07W95HD5M    Any Department/Home & Kitchen/ Irons & Steamers   \\\\n\\', \\'3        B07JGRV3TQ    Any Department/Home & Kitchen/ Irons & Steamers   \\\\n\\', \\'4        B01N1QE5ME    Any Department/Home & Kitchen/ Irons & Steamers   \\\\n\\', \\'...             ...                                                ...   \\\\n\\', \"2252672  B0859ZNH4L  Any Department/Home & Kitchen/Kids\\' Home Store...   \\\\n\", \"2252673  B07CJ5PDY3  Any Department/Home & Kitchen/Kids\\' Home Store...   \\\\n\", \"2252674  B003DNS9XG  Any Department/Home & Kitchen/Kids\\' Home Store...   \\\\n\", \"2252675  B0793SKDRW  Any Department/Home & Kitchen/Kids\\' Home Store...   \\\\n\", \"2252676  B00ZV8RAEU  Any Department/Home & Kitchen/Kids\\' Home Store...   \\\\n\", \\'\\\\n\\', \\'                                                     links  \\\\\\\\\\\\n\\', \\'0        https://www.amazon.com/Hilife-Steamer-Handheld...   \\\\n\\', \\'1        https://www.amazon.com/Professional-Resistant-...   \\\\n\\', \\'2        https://www.amazon.com/HOMZ-Ironing-Board-Hold...   \\\\n\\', \\'3        https://www.amazon.com/OGHom-Steamer-Clothes-H...   \\\\n\\', \\'4        https://www.amazon.com/BEAUTURAL-1200-Watt-Han...   \\\\n\\', \\'...                                                    ...   \\\\n\\', \\'2252672  https://www.amazon.com/Playtime-Animals-Bathro...   \\\\n\\', \\'2252673  https://www.amazon.com/Gelrova-Mildew-Resistan...   \\\\n\\', \\'2252674  https://www.amazon.com/Mommys-Helper-Froggie-C...   \\\\n\\', \\'2252675  https://www.amazon.com/Yimobra-Original-Bacter...   \\\\n\\', \\'2252676  https://www.amazon.com/Dreambaby-Anti-slip-Sho...   \\\\n\\', \\'\\\\n\\', \\'                                                     title          price  \\\\\\\\\\\\n\\', \\'0        \\\\\\\\n            Hilife Steamer for Clothes Steam...         $24.99   \\\\n\\', \\'1        \\\\\\\\n            Professional Grade 1700W Steam I...         $39.97   \\\\n\\', \\'2        \\\\\\\\n            Homz T Leg Ironing Board Holder,...   $1.99 $64.78   \\\\n\\', \\'3        \\\\\\\\n            OGHom Steamer for Clothes Steame...  $16.99 $18.99   \\\\n\\', \\'4        \\\\\\\\n            BEAUTURAL Steamer for Clothes wi...  $32.97 $39.97   \\\\n\\', \\'...                                                    ...            ...   \\\\n\\', \\'2252672  \\\\\\\\n            Bath Toy Organizer, Extra Durabl...          $1.99   \\\\n\\', \\'2252673  \\\\\\\\n            Babykin Baby Bath Mat Anti Slip ...          $7.76   \\\\n\\', \\'2252674  \\\\\\\\n            HYST Cartoon Panda/Pineapple Car...          $6.99   \\\\n\\', \\'2252675  \\\\\\\\n            Non Slip Decal Sticker Strips Ba...         $12.01   \\\\n\\', \\'2252676  \\\\\\\\n            Littlefun Baby Non-Slip Bath Mat...         $34.99   \\\\n\\', \\'\\\\n\\', \\'                                                 image url  \\\\\\\\\\\\n\\', \\'0        https://images-na.ssl-images-amazon.com/images...   \\\\n\\', \\'1        https://images-na.ssl-images-amazon.com/images...   \\\\n\\', \\'2        https://images-na.ssl-images-amazon.com/images...   \\\\n\\', \\'3        https://images-na.ssl-images-amazon.com/images...   \\\\n\\', \\'4        https://images-na.ssl-images-amazon.com/images...   \\\\n\\', \\'...                                                    ...   \\\\n\\', \\'2252672  https://images-na.ssl-images-amazon.com/images...   \\\\n\\', \\'2252673  https://images-na.ssl-images-amazon.com/images...   \\\\n\\', \\'2252674  https://images-na.ssl-images-amazon.com/images...   \\\\n\\', \\'2252675  https://images-na.ssl-images-amazon.com/images...   \\\\n\\', \\'2252676  https://images-na.ssl-images-amazon.com/images...   \\\\n\\', \\'\\\\n\\', \\'                     rating No of reviews  \\\\n\\', \\'0        4.4 out of 5 stars        15,233  \\\\n\\', \\'1        4.5 out of 5 stars         9,726  \\\\n\\', \\'2        4.4 out of 5 stars         2,796  \\\\n\\', \\'3        4.6 out of 5 stars         6,573  \\\\n\\', \\'4        4.4 out of 5 stars         8,223  \\\\n\\', \\'...                     ...           ...  \\\\n\\', \\'2252672  3.6 out of 5 stars            26  \\\\n\\', \\'2252673  3.6 out of 5 stars           162  \\\\n\\', \\'2252674  3.9 out of 5 stars            13  \\\\n\\', \\'2252675  3.1 out of 5 stars            27  \\\\n\\', \\'2252676  3.7 out of 5 stars            29  \\\\n\\', \\'\\\\n\\', \\'[2252677 rows x 8 columns]\\\\n\\']'"
      ]
     },
     "execution_count": 163,
     "metadata": {},
     "output_type": "execute_result"
    }
   ],
   "source": [
    "doc.text"
   ]
  },
  {
   "cell_type": "code",
   "execution_count": 164,
   "id": "a8412b78",
   "metadata": {},
   "outputs": [
    {
     "data": {
      "text/html": [
       "<div>\n",
       "<style scoped>\n",
       "    .dataframe tbody tr th:only-of-type {\n",
       "        vertical-align: middle;\n",
       "    }\n",
       "\n",
       "    .dataframe tbody tr th {\n",
       "        vertical-align: top;\n",
       "    }\n",
       "\n",
       "    .dataframe thead th {\n",
       "        text-align: right;\n",
       "    }\n",
       "</style>\n",
       "<table border=\"1\" class=\"dataframe\">\n",
       "  <thead>\n",
       "    <tr style=\"text-align: right;\">\n",
       "      <th></th>\n",
       "      <th>ASIN NO</th>\n",
       "      <th>MONEY</th>\n",
       "      <th>links</th>\n",
       "      <th>IMAGE URL</th>\n",
       "      <th>RATINGS</th>\n",
       "    </tr>\n",
       "  </thead>\n",
       "  <tbody>\n",
       "    <tr>\n",
       "      <th>0</th>\n",
       "      <td>B07HF3X6Y4</td>\n",
       "      <td>$24.99</td>\n",
       "      <td>https://www.amazon.com/Hilife-Steamer-Handheld</td>\n",
       "      <td>https://images-na.ssl-images-amazon.com/images</td>\n",
       "      <td>4.4 out of 5 stars</td>\n",
       "    </tr>\n",
       "    <tr>\n",
       "      <th>1</th>\n",
       "      <td>B07JVFZJT7</td>\n",
       "      <td>$39.97</td>\n",
       "      <td>https://www.amazon.com/Professional-Resistant-</td>\n",
       "      <td>https://images-na.ssl-images-amazon.com/images</td>\n",
       "      <td>4.5 out of 5 stars</td>\n",
       "    </tr>\n",
       "    <tr>\n",
       "      <th>2</th>\n",
       "      <td>B07W95HD5M</td>\n",
       "      <td>$1.99</td>\n",
       "      <td>https://www.amazon.com/HOMZ-Ironing-Board-Hold</td>\n",
       "      <td>https://images-na.ssl-images-amazon.com/images</td>\n",
       "      <td>4.4 out of 5 stars</td>\n",
       "    </tr>\n",
       "    <tr>\n",
       "      <th>3</th>\n",
       "      <td>B07JGRV3TQ</td>\n",
       "      <td>$64.78</td>\n",
       "      <td>https://www.amazon.com/OGHom-Steamer-Clothes-H</td>\n",
       "      <td>https://images-na.ssl-images-amazon.com/images</td>\n",
       "      <td>4.6 out of 5 stars</td>\n",
       "    </tr>\n",
       "    <tr>\n",
       "      <th>4</th>\n",
       "      <td>B01N1QE5ME</td>\n",
       "      <td>$16.99</td>\n",
       "      <td>https://www.amazon.com/BEAUTURAL-1200-Watt-Han</td>\n",
       "      <td>https://images-na.ssl-images-amazon.com/images</td>\n",
       "      <td>4.4 out of 5 stars</td>\n",
       "    </tr>\n",
       "    <tr>\n",
       "      <th>5</th>\n",
       "      <td>B0859ZNH4L</td>\n",
       "      <td>$18.99</td>\n",
       "      <td>https://www.amazon.com/Playtime-Animals-Bathro</td>\n",
       "      <td>https://images-na.ssl-images-amazon.com/images</td>\n",
       "      <td>3.6 out of 5 stars</td>\n",
       "    </tr>\n",
       "    <tr>\n",
       "      <th>6</th>\n",
       "      <td>B07CJ5PDY3</td>\n",
       "      <td>$32.97</td>\n",
       "      <td>https://www.amazon.com/Gelrova-Mildew-Resistan</td>\n",
       "      <td>https://images-na.ssl-images-amazon.com/images</td>\n",
       "      <td>3.6 out of 5 stars</td>\n",
       "    </tr>\n",
       "    <tr>\n",
       "      <th>7</th>\n",
       "      <td>B003DNS9XG</td>\n",
       "      <td>$39.97</td>\n",
       "      <td>https://www.amazon.com/Mommys-Helper-Froggie-C</td>\n",
       "      <td>https://images-na.ssl-images-amazon.com/images</td>\n",
       "      <td>3.9 out of 5 stars</td>\n",
       "    </tr>\n",
       "    <tr>\n",
       "      <th>8</th>\n",
       "      <td>B0793SKDRW</td>\n",
       "      <td>$1.99</td>\n",
       "      <td>https://www.amazon.com/Yimobra-Original-Bacter</td>\n",
       "      <td>https://images-na.ssl-images-amazon.com/images</td>\n",
       "      <td>3.1 out of 5 stars</td>\n",
       "    </tr>\n",
       "    <tr>\n",
       "      <th>9</th>\n",
       "      <td>B00ZV8RAEU</td>\n",
       "      <td>$7.76</td>\n",
       "      <td>https://www.amazon.com/Dreambaby-Anti-slip-Sho</td>\n",
       "      <td>https://images-na.ssl-images-amazon.com/images</td>\n",
       "      <td>3.7 out of 5 stars</td>\n",
       "    </tr>\n",
       "  </tbody>\n",
       "</table>\n",
       "</div>"
      ],
      "text/plain": [
       "      ASIN NO   MONEY                                           links  \\\n",
       "0  B07HF3X6Y4  $24.99  https://www.amazon.com/Hilife-Steamer-Handheld   \n",
       "1  B07JVFZJT7  $39.97  https://www.amazon.com/Professional-Resistant-   \n",
       "2  B07W95HD5M   $1.99  https://www.amazon.com/HOMZ-Ironing-Board-Hold   \n",
       "3  B07JGRV3TQ  $64.78  https://www.amazon.com/OGHom-Steamer-Clothes-H   \n",
       "4  B01N1QE5ME  $16.99  https://www.amazon.com/BEAUTURAL-1200-Watt-Han   \n",
       "5  B0859ZNH4L  $18.99  https://www.amazon.com/Playtime-Animals-Bathro   \n",
       "6  B07CJ5PDY3  $32.97  https://www.amazon.com/Gelrova-Mildew-Resistan   \n",
       "7  B003DNS9XG  $39.97  https://www.amazon.com/Mommys-Helper-Froggie-C   \n",
       "8  B0793SKDRW   $1.99  https://www.amazon.com/Yimobra-Original-Bacter   \n",
       "9  B00ZV8RAEU   $7.76  https://www.amazon.com/Dreambaby-Anti-slip-Sho   \n",
       "\n",
       "                                        IMAGE URL             RATINGS  \n",
       "0  https://images-na.ssl-images-amazon.com/images  4.4 out of 5 stars  \n",
       "1  https://images-na.ssl-images-amazon.com/images  4.5 out of 5 stars  \n",
       "2  https://images-na.ssl-images-amazon.com/images  4.4 out of 5 stars  \n",
       "3  https://images-na.ssl-images-amazon.com/images  4.6 out of 5 stars  \n",
       "4  https://images-na.ssl-images-amazon.com/images  4.4 out of 5 stars  \n",
       "5  https://images-na.ssl-images-amazon.com/images  3.6 out of 5 stars  \n",
       "6  https://images-na.ssl-images-amazon.com/images  3.6 out of 5 stars  \n",
       "7  https://images-na.ssl-images-amazon.com/images  3.9 out of 5 stars  \n",
       "8  https://images-na.ssl-images-amazon.com/images  3.1 out of 5 stars  \n",
       "9  https://images-na.ssl-images-amazon.com/images  3.7 out of 5 stars  "
      ]
     },
     "execution_count": 164,
     "metadata": {},
     "output_type": "execute_result"
    }
   ],
   "source": [
    "dataFrame"
   ]
  },
  {
   "cell_type": "code",
   "execution_count": null,
   "id": "7baf6d80",
   "metadata": {},
   "outputs": [],
   "source": []
  }
 ],
 "metadata": {
  "kernelspec": {
   "display_name": "Python 3 (ipykernel)",
   "language": "python",
   "name": "python3"
  },
  "language_info": {
   "codemirror_mode": {
    "name": "ipython",
    "version": 3
   },
   "file_extension": ".py",
   "mimetype": "text/x-python",
   "name": "python",
   "nbconvert_exporter": "python",
   "pygments_lexer": "ipython3",
   "version": "3.10.6"
  }
 },
 "nbformat": 4,
 "nbformat_minor": 5
}
